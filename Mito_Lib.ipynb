{
 "cells": [
  {
   "cell_type": "code",
   "execution_count": 3,
   "metadata": {},
   "outputs": [],
   "source": [
    "import mitosheet"
   ]
  },
  {
   "cell_type": "code",
   "execution_count": 2,
   "metadata": {},
   "outputs": [
    {
     "data": {
      "application/vnd.jupyter.widget-view+json": {
       "model_id": "a0624d3c962a448ca802e3346a0620ea",
       "version_major": 2,
       "version_minor": 0
      },
      "text/plain": [
       "MitoWidget(analysis_name='UUID-4f4f615d-b00e-4d8d-abb5-2bae8efc84b5', code_json='{\"imports\": \"from mitosheet i…"
      ]
     },
     "metadata": {},
     "output_type": "display_data"
    }
   ],
   "source": [
    "mitosheet.sheet()"
   ]
  },
  {
   "cell_type": "code",
   "execution_count": 3,
   "metadata": {},
   "outputs": [
    {
     "name": "stderr",
     "output_type": "stream",
     "text": [
      "NumExpr defaulting to 8 threads.\n"
     ]
    }
   ],
   "source": [
    "# MITO CODE START (DO NOT EDIT)\n",
    "\n",
    "from mitosheet import * # Import necessary functions from Mito\n",
    "register_analysis('UUID-e6a5567d-22bf-4e73-a85e-5532af3ae8f7') # Let Mito know which analysis is being run\n",
    "\n",
    "# Imported Iris.csv\n",
    "import pandas as pd\n",
    "Iris_csv = pd.read_csv('Iris.csv')\n",
    "\n",
    "# Filtered Species in Iris_csv\n",
    "Iris_csv = Iris_csv[(Iris_csv['Species'].str.contains('Iris-setosa', na=False))]\n",
    "Iris_csv = Iris_csv.reset_index(drop=True)\n",
    "\n",
    "# Pivoted Iris_csv into df2\n",
    "pivot_table = Iris_csv.pivot_table(\n",
    "    index=['Species'],\n",
    "    values=['SepalLengthCm', 'PetalLengthCm', 'SepalWidthCm', 'PetalWidthCm'],\n",
    "    aggfunc={'SepalLengthCm': 'count', 'PetalLengthCm': 'count', 'SepalWidthCm': 'count', 'PetalWidthCm': 'count'}\n",
    ")\n",
    "\n",
    "# Reset the column name and the indexes\n",
    "df2 = pivot_table.rename_axis(None, axis=1).reset_index()\n",
    "\n",
    "  \n",
    "# MITO CODE END (DO NOT EDIT)"
   ]
  },
  {
   "cell_type": "code",
   "execution_count": null,
   "metadata": {},
   "outputs": [],
   "source": []
  }
 ],
 "metadata": {
  "kernelspec": {
   "display_name": "Python 3",
   "language": "python",
   "name": "python3"
  },
  "language_info": {
   "codemirror_mode": {
    "name": "ipython",
    "version": 3
   },
   "file_extension": ".py",
   "mimetype": "text/x-python",
   "name": "python",
   "nbconvert_exporter": "python",
   "pygments_lexer": "ipython3",
   "version": "3.8.5"
  }
 },
 "nbformat": 4,
 "nbformat_minor": 4
}
